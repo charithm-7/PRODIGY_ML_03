{
  "nbformat": 4,
  "nbformat_minor": 0,
  "metadata": {
    "colab": {
      "provenance": []
    },
    "kernelspec": {
      "name": "python3",
      "display_name": "Python 3"
    },
    "language_info": {
      "name": "python"
    }
  },
  "cells": [
    {
      "cell_type": "code",
      "execution_count": null,
      "metadata": {
        "id": "r_Z6kYWbclnq"
      },
      "outputs": [],
      "source": [
        "import numpy as np\n",
        "import pandas as pd\n",
        "import os\n",
        "from sklearn.model_selection import train_test_split\n",
        "from sklearn.svm import SVC\n",
        "from sklearn.metrics import classification_report, accuracy_score\n",
        "from sklearn.preprocessing import StandardScaler\n",
        "from sklearn.pipeline import make_pipeline\n",
        "from skimage.io import imread\n",
        "from skimage.transform import resize\n",
        "\n",
        "# Define constants\n",
        "IMG_HEIGHT, IMG_WIDTH = 64, 64  # Image dimensions\n",
        "TRAIN_DIR = 'train'  # Path to the train directory\n",
        "\n",
        "# Function to load images and labels\n",
        "def load_images_and_labels(train_dir):\n",
        "    images = []\n",
        "    labels = []\n",
        "\n",
        "    for label in ['cat', 'dog']:\n",
        "        label_dir = os.path.join(train_dir, label)\n",
        "        for file_name in os.listdir(label_dir):\n",
        "            if file_name.endswith('.jpg'):\n",
        "                img_path = os.path.join(label_dir, file_name)\n",
        "                image = imread(img_path, as_gray=True)  # Read image as grayscale\n",
        "                image = resize(image, (IMG_HEIGHT, IMG_WIDTH), mode='reflect')  # Resize image\n",
        "                images.append(image.flatten())  # Flatten the image\n",
        "                labels.append(label)\n",
        "\n",
        "    return np.array(images), np.array(labels)\n",
        "\n",
        "# Load images and labels\n",
        "X, y = load_images_and_labels(TRAIN_DIR)\n",
        "\n",
        "# Convert labels to binary values: 'cat' -> 0, 'dog' -> 1\n",
        "y = np.where(y == 'cat', 0, 1)\n",
        "\n",
        "# Split the dataset into training and testing sets\n",
        "X_train, X_test, y_train, y_test = train_test_split(X, y, test_size=0.2, random_state=42)\n",
        "\n",
        "# Create and train the SVM model\n",
        "pipeline = make_pipeline(StandardScaler(), SVC(kernel='linear', random_state=42))\n",
        "pipeline.fit(X_train, y_train)\n",
        "\n",
        "# Make predictions on the test set\n",
        "y_pred = pipeline.predict(X_test)\n",
        "\n",
        "# Evaluate the model\n",
        "print(\"Accuracy:\", accuracy_score(y_test, y_pred))\n",
        "print(\"Classification Report:\\n\", classification_report(y_test, y_pred))\n",
        "\n"
      ]
    }
  ]
}